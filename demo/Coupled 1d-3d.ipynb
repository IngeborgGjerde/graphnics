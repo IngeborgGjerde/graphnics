{
 "cells": [
  {
   "cell_type": "code",
   "execution_count": 6,
   "metadata": {},
   "outputs": [],
   "source": [
    "from fenics import *\n",
    "import sys\n",
    "sys.path.append('../data/')\n",
    "import matplotlib.pyplot as plt\n",
    "import networkx as nx\n",
    "import numpy as np\n",
    "import imp\n",
    "from graphnics import *"
   ]
  },
  {
   "cell_type": "markdown",
   "metadata": {},
   "source": [
    "# Coupled 1d-3d demo\n",
    "\n",
    "`graphnics` (in development) is a python library that combines `networkx` and `FEniCS`. The module provides functionality for meshing and assembling variational forms on network structures. By combining it with `fenics_ii` we can further use it to solve coupled 1D-3D flow problems.\n",
    "\n",
    "## Background\n",
    "\n",
    "Coupled 1d-3d flow models are used to model e.g. \n",
    "- blood flow in vascularized tissue,\n",
    "- water flow through the root network in soil,\n",
    "- fluid flow through wells drilled in a reservoir.\n",
    "\n",
    "Each of these application share a common geometry: A network of flow channels $\\Lambda$ (blood vessels, roots or wells) embedded in a surrounding porous media $\\Omega \\subset \\mathbb{R}^3$ (tissue, soil or reservoir).\n",
    "\n",
    "## Model equations\n",
    "\n",
    "The [coupled 1d-3d flow model](https://www.esaim-m2an.org/articles/m2an/abs/2019/06/m2an180210/m2an180210.html) relates e.g. a fluid pressure $\\hat{u}$ in a network $\\Lambda$ with the fluid pressure $u$ in the surrounding domain $\\Omega$:\n",
    "\n",
    "$$\n",
    "\\begin{align*}\n",
    "- \\Delta u &= \\beta(\\hat{u}-\\bar{u})\\delta_\\Lambda \\quad &&\\text{ in } \\Omega, \\\\\n",
    "- \\partial_{ss} \\hat{u} &= -\\beta(\\hat{u}-\\bar{u}) \\quad &&\\text{ on } \\Lambda\n",
    "\\end{align*}\n",
    "$$\n",
    "\n",
    "Here, $\\delta_\\Lambda$ is the Dirac line source \n",
    "$$\n",
    "\\begin{align*}\n",
    "\\int_\\Omega \\phi \\delta_\\Lambda \\, \\mathrm{d}x &= \\int_\\Omega \\phi(s) \\, \\mathrm{d}s  \\\\\n",
    "\\end{align*}\n",
    "$$\n",
    "for $\\phi \\in C^0(\\Omega)$ and $\\bar{u}$ denotes the 3d pressure *averaged* the lateral boundary of the flow channel:\n",
    "$$\n",
    "\\begin{align*}\n",
    "\\bar{u}(s) &= \\int_{\\partial C(s)} u  \\, \\mathrm{d}\\theta. \\\\\n",
    "\\end{align*}\n",
    "$$\n",
    "\n",
    "The parameter $\\beta$ adjusts the permeability of the \"membrane\" that separates the flow domains $\\Lambda$ and $\\Omega$. Increasing $\\beta$ will lead to an increase in the fluid exchange between the two.\n",
    "\n",
    "## Implementation\n",
    "\n",
    "### Making the domains\n",
    "\n",
    "We consider a Y-shaped network embedded inside a box:"
   ]
  },
  {
   "cell_type": "code",
   "execution_count": 2,
   "metadata": {},
   "outputs": [],
   "source": [
    "# Make 1d y bifurcation\n",
    "G = make_Y_bifurcation(dim=3)\n",
    "G.make_mesh(n=4)\n",
    "mesh1d = G.global_mesh\n",
    "\n",
    "pos = nx.get_node_attributes(G, \"pos\")\n",
    "node_coords = np.asarray(list(pos.values()))\n",
    "\n",
    "# fit 3d box around it \n",
    "mesh3d = UnitCubeMesh(40, 40, 40)\n",
    "\n",
    "c = mesh3d.coordinates()\n",
    "xc, yc, zc = (np.min(node_coords, axis=0)+np.max(node_coords, axis=0))*0.5 # graph center\n",
    "xl, yl, zl = (np.max(node_coords, axis=0)-np.min(node_coords, axis=0)) # graph length scales\n",
    "\n",
    "c[:,:] += [xc-0.5, yc-0.5, zc-0.5] # recenter\n",
    "c[:,:] *= [xl*1.1+0.1, yl*1.1+0.1, zl*1.1+0.1] #rescale lengths"
   ]
  },
  {
   "cell_type": "markdown",
   "metadata": {},
   "source": [
    "### Parameters\n",
    "\n",
    "We assign a given pressure drop across the bifurcation network, and a zero pressure on the boundaries of the box:"
   ]
  },
  {
   "cell_type": "code",
   "execution_count": 3,
   "metadata": {},
   "outputs": [],
   "source": [
    "# Pressure boundary conditions\n",
    "u_bc_3 = Constant(0)\n",
    "u_bc_1 = Expression('x[1]', degree=2)\n",
    "\n",
    "# Permeability of \"membrane\" separating $\\Omega$ and $\\Lambda$\n",
    "beta = Constant(1)"
   ]
  },
  {
   "cell_type": "markdown",
   "metadata": {},
   "source": [
    "### Variational formulation\n",
    "\n",
    "The variational problem we want to solve reads:\n",
    "\n",
    "Find $u \\in H^1(\\Omega)$ and $\\hat{u} \\in H^1(\\Lambda)$ such that\n",
    "$$\n",
    "\\begin{align*}\n",
    "(\\nabla u, \\nabla v)_\\Omega &= \\vert \\partial C(s)\\vert (\\beta(\\hat{u}-\\bar{u}), \\bar{v})_\\Lambda, \\\\\n",
    "(\\partial_{s} \\hat{u}, \\partial_{s} \\hat{v})_\\Lambda &= -(\\beta(\\hat{u}-\\bar{u}), \\hat{v})_\\Lambda\n",
    "\\end{align*}\n",
    "$$\n",
    "for all $v \\in H^1(\\Omega)$ and $\\hat{v} \\in H^1(\\Lambda)$.\n",
    "\n",
    "Here $\\vert \\partial C(s)\\vert$ denotes the circumference of the channel cross-section; for pipes with radius $R$ we have $\\vert \\partial C(s)\\vert=2\\pi R$.\n",
    "\n",
    "\n",
    "### Discretization\n",
    "\n",
    "We discretize using linear elements, setting $u_h = \\sum_{i=1}^n u_i \\phi_i$ and $\\hat{u}_h = \\sum_{i=1}^{\\hat{n}} \\hat{u}_i \\hat{\\phi}_i$ where $\\phi_i$ and $\\hat{\\phi}_i$ are the 3d and 1d hat functions, respectively.\n",
    "\n",
    "In block matrix form our problem then reads:\n",
    "\n",
    "$$\n",
    "\\begin{align}\n",
    "\\begin{pmatrix}\n",
    "(\\nabla \\phi_j, \\nabla \\phi_i)_\\Omega + \\vert \\partial C(s)\\vert (\\bar{\\phi}_j, \\bar{\\phi}_i)_\\Lambda& \\quad -\\vert \\partial C(s)\\vert \\beta (\\hat{\\phi}_j, \\bar{\\phi}_i)_\\Lambda \\\\\n",
    " - \\beta (\\bar{\\phi}_j, \\hat{\\phi}_i)_\\Lambda & \\quad (\\partial_{s} \\hat{\\phi}_j, \\partial_{s} \\hat{\\phi}_i)_\\Lambda +(\\beta \\hat{\\phi}_j, \\hat{\\phi}_i)_\\Lambda\n",
    "\\end{pmatrix}\n",
    "\\begin{pmatrix}\n",
    "u_h \\\\\n",
    "\\hat{u}_h\n",
    "\\end{pmatrix}\n",
    "= \n",
    "\\begin{pmatrix}\n",
    "0 \\\\ 0\n",
    "\\end{pmatrix} \n",
    "\\end{align}\n",
    "$$\n",
    "\n",
    "We construct the forms used in each block as follows:"
   ]
  },
  {
   "cell_type": "code",
   "execution_count": 4,
   "metadata": {},
   "outputs": [],
   "source": [
    "# Pressure space on global mesh\n",
    "V3 = FunctionSpace(mesh3d, \"CG\", 1)\n",
    "V1 = FunctionSpace(mesh1d, \"CG\", 1)\n",
    "W = [V3, V1]\n",
    "\n",
    "u3, u1 = list(map(TrialFunction, W))\n",
    "v3, v1 = list(map(TestFunction, W))\n",
    "\n",
    "# Averaging surface\n",
    "cylinder = Circle(radius=0.1, degree=10)\n",
    "circum = Constant(2*3.14)  #circumference\n",
    "\n",
    "Pi_u = Average(u3, mesh1d, cylinder)\n",
    "Pi_v = Average(v3, mesh1d, cylinder)\n",
    "\n",
    "dxGamma = Measure(\"dx\", domain=mesh1d)\n",
    "\n",
    "# blocks\n",
    "a00 = inner(grad(u3), grad(v3)) * dx + circum* beta * inner(Pi_u, Pi_v) * dxGamma\n",
    "a01 = -beta * circum * inner(u1, Pi_v) * dxGamma\n",
    "a10 = -beta * inner(Pi_u, v1) * dxGamma\n",
    "a11 = inner(grad(u1), grad(v1)) * dx + beta * inner(u1, v1) * dxGamma\n",
    "\n",
    "# right-hand side\n",
    "L0 = inner(Constant(0), Pi_v) * dxGamma\n",
    "L1 = inner(Constant(0), v1) * dxGamma"
   ]
  },
  {
   "cell_type": "markdown",
   "metadata": {},
   "source": [
    "### Assembly\n",
    "\n",
    "Now we just need to make the nested list representing the block matrix and ask `fenics_ii` to solve our system:"
   ]
  },
  {
   "cell_type": "code",
   "execution_count": 5,
   "metadata": {},
   "outputs": [
    {
     "name": "stderr",
     "output_type": "stream",
     "text": [
      "Averaging over 48 cells: 48it [00:00, 1127.10it/s]\n"
     ]
    }
   ],
   "source": [
    "\n",
    "a = [[a00, a01], [a10, a11]]\n",
    "L = [L0, L1]\n",
    "\n",
    "W_bcs = [[DirichletBC(V3, u_bc_3, \"on_boundary\")],\n",
    "         [DirichletBC(V1, u_bc_1, \"on_boundary\")]]\n",
    "\n",
    "A, b = map(ii_assemble, (a, L))\n",
    "A, b = apply_bc(A, b, W_bcs)\n",
    "A, b = map(ii_convert, (A, b))\n",
    "\n",
    "wh = ii_Function(W)\n",
    "solver = LUSolver(A, \"mumps\")\n",
    "solver.solve(wh.vector(), b)\n",
    "\n",
    "File('plots/coupled1d3d/pressure1d.pvd') << wh[1]\n",
    "File('plots/coupled1d3d/pressure3d.pvd') << wh[0]"
   ]
  },
  {
   "cell_type": "markdown",
   "metadata": {},
   "source": [
    "### Result\n",
    "\n",
    "Finally, we can plot the results using paraview. If you open the files `pressure1d.pvd` and `pressure3d.pvd` located in the `plots/coupled1d3d/` folder you should see something like this:\n",
    "\n",
    "<img alt=\"alt_text\" width=\"500px\" src=\"coupled1d3d.png\" />\n",
    "\n",
    "## Coupled 1d-3d flow model for carcinoma\n",
    "\n",
    "As you might have noticed from the above figure, `fenics_ii` can assemble and solve the coupled 1d-3d flow model even if the 1d mesh does not conform to the 3d mesh. Thus, using e.g. `graphnics` to make the 1d mesh, it is straightforward to extend our approach to more complicated networks. We illustrate this by using a graph constructed from the vascular network of a carcinoma in a rat."
   ]
  },
  {
   "cell_type": "code",
   "execution_count": 30,
   "metadata": {},
   "outputs": [
    {
     "name": "stdout",
     "output_type": "stream",
     "text": [
      "Downoading data from https://physiology.arizona.edu/sites/default/files/rattum98_0.txt \n",
      "\n",
      "Please visit https://physiology.arizona.edu/people/secomb/network for information on how to cite the source for this data\n",
      "  \n"
     ]
    }
   ],
   "source": [
    "# Get 1d network\n",
    "from data.secomb_tumours import read_network\n",
    "G = read_network.get_graph('https://physiology.arizona.edu/sites/default/files/rattum98_0.txt')\n",
    "G.make_mesh(4)\n",
    "mesh1d = G.global_mesh\n",
    "\n",
    "# Fit box around it\n",
    "pos = nx.get_node_attributes(G, \"pos\")\n",
    "node_coords = np.asarray(list(pos.values()))\n",
    "\n",
    "mesh3d = UnitCubeMesh(50, 50, 50)\n",
    "\n",
    "c = mesh3d.coordinates()\n",
    "xc, yc, zc = (np.min(node_coords, axis=0)+np.max(node_coords, axis=0))*0.5 # graph center\n",
    "xl, yl, zl = (np.max(node_coords, axis=0)-np.min(node_coords, axis=0)) # graph length scales\n",
    "\n",
    "c[:,:] -= [0.5, 0.5, 0.5] # center unit cube at (0,0,0)\n",
    "c[:,:] *= [xl*1.2+0.1, yl*1.2+0.1, zl*1.2+0.1] #rescale lengths\n",
    "c[:,:] += [xc, yc, zc] # recenter\n",
    "\n",
    "W = [FunctionSpace(msh, \"CG\", 1) for msh in [mesh3d, mesh1d]]\n",
    "\n",
    "File('plots/coupled1d3d/pressure3d.pvd') << Function(W[0])\n",
    "File('plots/coupled1d3d/pressure1d.pvd') << Function(W[1])\n"
   ]
  },
  {
   "cell_type": "markdown",
   "metadata": {},
   "source": [
    "NB: Sometimes the docker container loses internet connection, in this case you should restart the container. You can do this by typing\n",
    "```\n",
    ">> docker stop graphnics-container\n",
    ">> docker start graphnics-container\n",
    "```\n",
    "in the terminal.\n",
    "\n",
    "Assembling and solving the model is performed as shown earlier, with the exception that the averaging radius is taken from the vasculature radius."
   ]
  },
  {
   "cell_type": "code",
   "execution_count": 31,
   "metadata": {},
   "outputs": [
    {
     "name": "stdout",
     "output_type": "stream",
     "text": [
      "WARNING: user expression has not supplied value_shape method or an element. Assuming scalar element.\n"
     ]
    }
   ],
   "source": [
    "W = [FunctionSpace(msh, \"CG\", 1) for msh in [mesh3d, mesh1d]]\n",
    "\n",
    "u3, u1 = list(map(TrialFunction, W))\n",
    "v3, v1 = list(map(TestFunction, W))\n",
    "\n",
    "\n",
    "# Averaging radius is taken from radius data\n",
    "class AveragingRadius(UserExpression):\n",
    "    '''\n",
    "    Vessel radius as a fenics expression\n",
    "    '''\n",
    "    def __init__(self, G, **kwargs):\n",
    "        self.G = G\n",
    "        super().__init__(**kwargs)\n",
    "    def eval(self, value, x):\n",
    "        p = Point(x[0], x[1], x[2])\n",
    "        tree = BoundingBoxTree()\n",
    "        tree.build(mesh1d)\n",
    "        cell = tree.compute_first_entity_collision(p)\n",
    "\n",
    "        edge_ix = self.G.mf[cell]\n",
    "        edge = list(G.edges())[edge_ix]\n",
    "        value[0] = self.G.edges()[edge]['radius']\n",
    "    \n",
    "radius = AveragingRadius(G, degree=2)\n",
    "\n",
    "cylinder = Circle(radius=radius, degree=10)\n",
    "\n",
    "Pi_u, Pi_v = [Average(func, mesh1d, cylinder) for func in [u3, v3]]"
   ]
  },
  {
   "cell_type": "markdown",
   "metadata": {},
   "source": [
    "From here we assemble the form and solve:"
   ]
  },
  {
   "cell_type": "code",
   "execution_count": 32,
   "metadata": {},
   "outputs": [
    {
     "name": "stderr",
     "output_type": "stream",
     "text": [
      "Averaging over 1648 cells: 1648it [00:02, 553.02it/s]\n"
     ]
    },
    {
     "data": {
      "text/plain": [
       "1"
      ]
     },
     "execution_count": 32,
     "metadata": {},
     "output_type": "execute_result"
    }
   ],
   "source": [
    "beta = Constant(0.000001)\n",
    "\n",
    "dxGamma = Measure(\"dx\", domain=mesh1d)\n",
    "\n",
    "# blocks\n",
    "a00 = inner(grad(u3), grad(v3)) * dx + circum* beta * inner(Pi_u, Pi_v) * dxGamma\n",
    "a01 = -beta * circum * inner(u1, Pi_v) * dxGamma\n",
    "a10 = -beta * inner(Pi_u, v1) * dxGamma\n",
    "a11 = inner(grad(u1), grad(v1)) * dx + beta * inner(u1, v1) * dxGamma\n",
    "\n",
    "# right-hand side\n",
    "L0 = inner(Constant(0), Pi_v) * dxGamma\n",
    "L1 = inner(Constant(0), v1) * dxGamma\n",
    "\n",
    "\n",
    "a = [[a00, a01], [a10, a11]]\n",
    "L = [L0, L1]\n",
    "\n",
    "u_bc_1 = Expression('0.1*x[1]', degree=2)\n",
    "\n",
    "W_bcs = [[DirichletBC(W[0], u_bc_3, \"on_boundary\")],\n",
    "         [DirichletBC(W[1], u_bc_1, \"on_boundary\")]]\n",
    "\n",
    "A, b = map(ii_assemble, (a, L))\n",
    "A, b = apply_bc(A, b, W_bcs)\n",
    "A, b = map(ii_convert, (A, b))\n",
    "\n",
    "wh = ii_Function(W)\n",
    "solver = LUSolver(A, \"mumps\")\n",
    "solver.solve(wh.vector(), b)"
   ]
  },
  {
   "cell_type": "markdown",
   "metadata": {},
   "source": [
    "## Plotting networks with varying radius in Paraview: Application of Tubefilter\n",
    "\n",
    "Now that our network has a radius, we want to plot it using the Tubefilter in paraview. As the name suggests, this will render the network as a collection of tubes with varying radius. The tubefilter only works on `.vtp` files, thus it will not work on the `.vtu` files that are generated by `FeniCS`. `graphnics` therefore includes a `TubeFile` class. The class can be used like the standard `File` class."
   ]
  },
  {
   "cell_type": "code",
   "execution_count": 33,
   "metadata": {},
   "outputs": [
    {
     "name": "stdout",
     "output_type": "stream",
     "text": [
      "WARNING: user expression has not supplied value_shape method or an element. Assuming scalar element.\n"
     ]
    }
   ],
   "source": [
    "wh[0].rename('p3d', '0.0')\n",
    "File('plots/coupled1d3d/pressure3d.pvd') << wh[0]\n",
    "\n",
    "wh[1].rename('p1d', '0.0')\n",
    "TubeFile(G, 'plots/coupled1d3d/pressure1d.vtp') << wh[1]"
   ]
  },
  {
   "cell_type": "markdown",
   "metadata": {},
   "source": [
    "Applying the `Tubefilter` in Paraview (and a `clip filter`) you should see something like this:\n",
    "\n",
    "<img alt=\"alt_text\" width=\"600px\" src=\"rattm98.png\" />"
   ]
  }
 ],
 "metadata": {
  "kernelspec": {
   "display_name": "Python 3",
   "language": "python",
   "name": "python3"
  },
  "language_info": {
   "codemirror_mode": {
    "name": "ipython",
    "version": 3
   },
   "file_extension": ".py",
   "mimetype": "text/x-python",
   "name": "python",
   "nbconvert_exporter": "python",
   "pygments_lexer": "ipython3",
   "version": "3.6.9"
  },
  "vscode": {
   "interpreter": {
    "hash": "767d51c1340bd893661ea55ea3124f6de3c7a262a8b4abca0554b478b1e2ff90"
   }
  }
 },
 "nbformat": 4,
 "nbformat_minor": 4
}
