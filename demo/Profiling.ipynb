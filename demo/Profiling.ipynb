{
 "cells": [
  {
   "cell_type": "code",
   "execution_count": 1,
   "metadata": {},
   "outputs": [
    {
     "name": "stdout",
     "output_type": "stream",
     "text": [
      "Missing HsMG for fract norm computing\n"
     ]
    }
   ],
   "source": [
    "from fenics import *\n",
    "import matplotlib.pyplot as plt\n",
    "import networkx as nx\n",
    "import numpy as np\n",
    "import imp\n",
    "from graphnics import *\n"
   ]
  },
  {
   "cell_type": "code",
   "execution_count": null,
   "metadata": {},
   "outputs": [
    {
     "name": "stdout",
     "output_type": "stream",
     "text": [
      "\n",
      "0 bifurcations:\n",
      "Make graphmesh 0.0039s\n",
      "Make model 0.0018s\n",
      "*Assemble and convert diag terms in a 0.1045s\n",
      "*Assemble and convert off diag terms in a 0.1022s\n",
      "*Assemble and convert bifurcation terms in a 0.1000s\n",
      "Assemble all 0.0237s\n",
      "Convert 0.0030s\n",
      "Solve 0.0021s\n",
      "\n",
      "1 bifurcations:\n",
      "Make graphmesh 0.0054s\n",
      "Make model 0.0046s\n",
      "*Assemble and convert diag terms in a 0.0264s\n",
      "*Assemble and convert off diag terms in a 0.0363s\n",
      "*Assemble and convert bifurcation terms in a 0.0261s\n",
      "Assemble all 0.0489s\n",
      "Convert 0.0082s\n",
      "Solve 0.0020s\n",
      "\n",
      "3 bifurcations:\n",
      "Make graphmesh 0.0064s\n",
      "Make model 0.0078s\n",
      "*Assemble and convert diag terms in a 0.0779s\n",
      "*Assemble and convert off diag terms in a 0.0947s\n",
      "*Assemble and convert bifurcation terms in a 0.0745s\n",
      "Assemble all 0.1102s\n",
      "Convert 0.0377s\n",
      "Solve 0.0032s\n",
      "\n",
      "9 bifurcations:\n",
      "Make graphmesh 0.0138s\n",
      "Make model 0.0214s\n",
      "*Assemble and convert diag terms in a 0.3460s\n",
      "*Assemble and convert off diag terms in a 0.4997s\n",
      "*Assemble and convert bifurcation terms in a 0.4385s\n",
      "Assemble all 0.3122s\n",
      "Convert 0.4137s\n",
      "Solve 0.0086s\n",
      "\n",
      "19 bifurcations:\n",
      "Make graphmesh 0.0231s\n",
      "Make model 0.0502s\n",
      "*Assemble and convert diag terms in a 1.4383s\n"
     ]
    }
   ],
   "source": [
    "import time\n",
    "\n",
    "\n",
    "for n_nodes in [2, 3, 5, 11, 21]:\n",
    "    G = make_line_graph(n_nodes)\n",
    "    print(f'\\n{G.num_bifurcations} bifurcations:')\n",
    "\n",
    "    start = time.time()\n",
    "    G = make_line_graph(n_nodes)\n",
    "    G.make_mesh(n=2)\n",
    "    elapsed = time.time()-start\n",
    "    for e in G.edges():\n",
    "        G.edges()[e]['Res'] = Constant(1)\n",
    "        G.edges()[e]['Ainv'] = Constant(1)\n",
    "        \n",
    "    print(f'Make graphmesh {elapsed:1.4f}s')\n",
    "    \n",
    "    \n",
    "    start = time.time()\n",
    "    model = NetworkStokes(G)\n",
    "    elapsed = time.time()-start\n",
    "    print(f'Make model {elapsed:1.4f}s')\n",
    "    \n",
    "    \n",
    "    start = time.time()\n",
    "    a = model.diag_a_form_on_edges()\n",
    "    A, b = map(ii_assemble, (a,L))\n",
    "    A, b = map(ii_convert, (A,b))\n",
    "    elapsed = time.time()-start\n",
    "    print(f'*Assemble and convert diag terms in a {elapsed:1.4f}s')\n",
    "    \n",
    "    \n",
    "    start = time.time()\n",
    "    a = model.offdiag_a_form_on_edges()\n",
    "    A, b = map(ii_assemble, (a,L))\n",
    "    A, b = map(ii_convert, (A,b))\n",
    "    elapsed = time.time()-start\n",
    "    print(f'*Assemble and convert off diag terms in a {elapsed:1.4f}s')\n",
    "    \n",
    "    \n",
    "    start = time.time()\n",
    "    a = model.a_form_on_bifs()\n",
    "    A, b = map(ii_assemble, (a,L))\n",
    "    A, b = map(ii_convert, (A,b))\n",
    "    elapsed = time.time()-start\n",
    "    print(f'*Assemble and convert bifurcation terms in a {elapsed:1.4f}s')\n",
    "    \n",
    "    \n",
    "    start = time.time()\n",
    "    a = model.a_form()\n",
    "    L = model.L_form()\n",
    "    A, b = map(ii_assemble, (a,L))\n",
    "    elapsed = time.time()-start\n",
    "    print(f'Assemble all {elapsed:1.4f}s')\n",
    "    \n",
    "    start = time.time()\n",
    "    A, b = map(ii_convert, (A,b))\n",
    "    elapsed = time.time()-start\n",
    "    print(f'Convert {elapsed:1.4f}s')\n",
    "    \n",
    "\n",
    "    start = time.time()\n",
    "    qp = ii_Function(model.W)\n",
    "    solver = LUSolver(A, 'mumps')\n",
    "    solver.solve(qp.vector(), b)\n",
    "    elapsed = time.time()-start\n",
    "    print(f'Solve {elapsed:1.4f}s')"
   ]
  }
 ],
 "metadata": {
  "kernelspec": {
   "display_name": "Python 3",
   "language": "python",
   "name": "python3"
  },
  "language_info": {
   "codemirror_mode": {
    "name": "ipython",
    "version": 3
   },
   "file_extension": ".py",
   "mimetype": "text/x-python",
   "name": "python",
   "nbconvert_exporter": "python",
   "pygments_lexer": "ipython3",
   "version": "3.6.9"
  },
  "vscode": {
   "interpreter": {
    "hash": "767d51c1340bd893661ea55ea3124f6de3c7a262a8b4abca0554b478b1e2ff90"
   }
  }
 },
 "nbformat": 4,
 "nbformat_minor": 4
}
