{
 "cells": [
  {
   "cell_type": "code",
   "execution_count": 1,
   "metadata": {},
   "outputs": [
    {
     "name": "stdout",
     "output_type": "stream",
     "text": [
      "Missing HsMG for fract norm computing\n"
     ]
    }
   ],
   "source": [
    "from graphnics import *\n",
    "from xii import *\n",
    "\n",
    "import sys\n",
    "sys.path.append('../data/')\n",
    "from generate_arterial_tree import *\n",
    "\n",
    "import time"
   ]
  },
  {
   "cell_type": "markdown",
   "metadata": {},
   "source": [
    "# Time profiling of graphnics\n",
    "\n",
    "The Network Stokes model is posed with a global pressure $p \\in P^1(\\Lambda)$ and edge-wise cross-section fluxes $\\hat{q}_i \\in P^2(\\Lambda_i)$. For this reason the Network Stokes model gets computationally expensive for networks with a large number of edges.\n",
    "\n",
    "In the below code we examine this in more detail:"
   ]
  },
  {
   "cell_type": "code",
   "execution_count": 2,
   "metadata": {},
   "outputs": [
    {
     "name": "stdout",
     "output_type": "stream",
     "text": [
      "| N | n_e| assemble  | solve| total |\n",
      "| -- | -- |-- |-- | -- |\n",
      "| 1 | 1 | 0.04s | 0.00s | 0.04s\n",
      "| 2 | 3 | 0.05s | 0.00s | 0.05s\n",
      "| 3 | 7 | 0.13s | 0.00s | 0.13s\n",
      "| 4 | 15 | 0.37s | 0.00s | 0.38s\n",
      "| 5 | 31 | 1.32s | 0.01s | 1.33s\n",
      "| 6 | 63 | 3.94s | 0.02s | 3.95s\n",
      "| 7 | 127 | 14.30s | 0.04s | 14.34s\n",
      "| 8 | 255 | 56.79s | 0.09s | 56.89s\n"
     ]
    }
   ],
   "source": [
    "# Generations of arterial tree\n",
    "Ns = [1, 2, 3, 4, 5, 6, 7, 8]\n",
    "\n",
    "# Fix tree branch direction split\n",
    "signs = np.tile([-1,1], 200).tolist()\n",
    "\n",
    "print('| N | n_e| assemble  | solve| total |')\n",
    "print('| -- | -- |-- |-- | -- |')\n",
    "\n",
    "for N in Ns:\n",
    "    G = make_arterial_tree(N, directions = signs, gam=0.9, lmbda = 8, radius0=0.1)\n",
    "    G.make_mesh(0)\n",
    "    \n",
    "    for e in G.edges():\n",
    "        G.edges()[e]['Ainv'] = Constant(1)\n",
    "        G.edges()[e]['Res'] = Constant(1)\n",
    "    \n",
    "    # Profile assembly and solver times\n",
    "    t_start = time.time()\n",
    "\n",
    "    # Setup and assemble network\n",
    "    model = NetworkStokes(G, p_bc = Expression('x[1]', degree=2))\n",
    "\n",
    "    W = model.W\n",
    "    a = model.a_form()\n",
    "    L = model.L_form()\n",
    "\n",
    "    A, b = map(ii_assemble, (a,L))\n",
    "    A, b = map(ii_convert, (A,b))\n",
    "    \n",
    "    t_assemble = time.time() - t_start\n",
    "    \n",
    "    # Solve network equations\n",
    "    qp = ii_Function(W)\n",
    "    solver = LUSolver(A, 'mumps')\n",
    "    solver.solve(qp.vector(), b)\n",
    "\n",
    "    t_solve = time.time()-t_start-t_assemble\n",
    "        \n",
    "    t_total = t_solve + t_assemble \n",
    "    \n",
    "    print(f'| {N} | {G.num_edges} | {t_assemble:1.2f}s | {t_solve:1.2f}s | {t_total:1.2f}s')"
   ]
  },
  {
   "cell_type": "markdown",
   "metadata": {},
   "source": [
    "## Runtimes\n",
    "\n",
    "Executing the above code yields the following table:\n",
    "\n",
    "| N | assemble  | solve| total |\n",
    "| -- | -- |-- |-- |\n",
    "| 1 | 0.04s | 0.00s | 0.04s\n",
    "| 2 | 0.07s | 0.00s | 0.07s\n",
    "| 3 | 0.18s | 0.00s | 0.18s\n",
    "| 4 | 0.44s | 0.00s | 0.44s\n",
    "| 5 | 1.17s | 0.01s | 1.17s\n",
    "| 6 | 4.06s | 0.01s | 4.07s\n",
    "| 7 | 14.65s | 0.04s | 14.69s\n",
    "| 8 | 55.77s | 0.09s | 55.86s"
   ]
  },
  {
   "cell_type": "code",
   "execution_count": null,
   "metadata": {},
   "outputs": [],
   "source": []
  }
 ],
 "metadata": {
  "kernelspec": {
   "display_name": "Python 3",
   "language": "python",
   "name": "python3"
  },
  "language_info": {
   "codemirror_mode": {
    "name": "ipython",
    "version": 3
   },
   "file_extension": ".py",
   "mimetype": "text/x-python",
   "name": "python",
   "nbconvert_exporter": "python",
   "pygments_lexer": "ipython3",
   "version": "3.6.9"
  }
 },
 "nbformat": 4,
 "nbformat_minor": 4
}
