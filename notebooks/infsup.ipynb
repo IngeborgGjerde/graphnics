{
 "cells": [
  {
   "cell_type": "code",
   "execution_count": 1,
   "metadata": {},
   "outputs": [
    {
     "name": "stdout",
     "output_type": "stream",
     "text": [
      "Missing HsMG for fract norm computing\n"
     ]
    }
   ],
   "source": [
    "from fenics import *\n",
    "import sys\n",
    "sys.path.append('../data/')\n",
    "sys.path.append('../graphnics/')\n",
    "sys.path.append('../applications/')\n",
    "sys.path.append('../../NetworkGen/')\n",
    "import matplotlib.pyplot as plt\n",
    "import networkx as nx\n",
    "import numpy as np\n",
    "import imp\n",
    "\n",
    "import graph_utils as gu\n",
    "from graph_examples import *\n",
    "import infsup_eigvals as infsup\n",
    "import models\n",
    "from slepc4py import SLEPc\n",
    "from graph_example_tree import *\n",
    "\n",
    "RT = {'flux_space': 'CG', 'flux_degree': 1, 'pressure_space': 'DG', 'pressure_degree': 0}\n",
    "TH = {'flux_space': 'CG', 'flux_degree': 2, 'pressure_space': 'CG', 'pressure_degree': 1}"
   ]
  },
  {
   "cell_type": "code",
   "execution_count": 3,
   "metadata": {},
   "outputs": [],
   "source": []
  },
  {
   "cell_type": "code",
   "execution_count": 9,
   "metadata": {
    "scrolled": false
   },
   "outputs": [
    {
     "name": "stdout",
     "output_type": "stream",
     "text": [
      "Line graph with N refinements\n",
      "Model:  Hydraulic Newtork\n",
      "$h_min$     & $\\lambda_{'flux_space': 'CG', 'flux_degree': 2, 'pressure_space': 'CG', 'pressure_degree': 1}$ & $\\lambda_{'flux_space': 'CG', 'flux_degree': 1, 'pressure_space': 'DG', 'pressure_degree': 0}$ \\\\ \\hline\n",
      "2.50e-01     & 1.27e-03  & 2.59e-03\\\\\n",
      "1.25e-01     & 2.74e-04  & 6.50e-04\\\\\n",
      "6.25e-02     & 6.59e-05  & 3.80e-04\\\\\n",
      "3.12e-02     & 1.63e-05  & 4.68e-04\\\\\n",
      "1.56e-02     & 4.07e-06  & 4.96e-04\\\\\n",
      "7.81e-03     & 1.02e-06  & 5.04e-04\\\\\n",
      "3.91e-03     & 2.54e-07  & 5.05e-04\\\\\n",
      "\n",
      "Model:  Network Stokes\n",
      "$h_min$     & $\\lambda_{'flux_space': 'CG', 'flux_degree': 2, 'pressure_space': 'CG', 'pressure_degree': 1}$ & $\\lambda_{'flux_space': 'CG', 'flux_degree': 1, 'pressure_space': 'DG', 'pressure_degree': 0}$ \\\\ \\hline\n",
      "2.50e-01     & 5.00e-01  & 5.00e-01\\\\\n",
      "1.25e-01     & 5.00e-01  & 5.00e-01\\\\\n",
      "6.25e-02     & 5.00e-01  & 5.00e-01\\\\\n",
      "3.12e-02     & 5.00e-01  & 5.00e-01\\\\\n",
      "1.56e-02     & 5.00e-01  & 5.00e-01\\\\\n",
      "7.81e-03     & 5.00e-01  & 5.00e-01\\\\\n",
      "3.91e-03     & 5.00e-01  & 5.00e-01\\\\\n",
      "\n"
     ]
    }
   ],
   "source": [
    "imp.reload(infsup)\n",
    "imp.reload(models)\n",
    "\n",
    "print('Line graph with N refinements')\n",
    "\n",
    "for model_func, model_name in [[infsup.HydraulicNetwork_EP, 'Hydraulic Newtork'], [infsup.NetworkStokes_EP, 'Network Stokes']]:\n",
    "\n",
    "    print('Model: ', model_name)\n",
    "        \n",
    "    print(f'$h_min$     & $\\lambda_{TH}$ & $\\lambda_{RT}$ \\\\\\\\ \\hline')\n",
    "    for N in [2, 3, 4, 5, 6, 7, 8]:\n",
    "        G = make_line_graph(2)\n",
    "        G.make_mesh(N)\n",
    "\n",
    "        prop_dict = {key: { 'Res':Constant(1),'Ainv':Constant(1)} for key in list(G.edges.keys())}\n",
    "        nx.set_edge_attributes(G, prop_dict)\n",
    "\n",
    "        model = model_func(G, space=TH)\n",
    "        eigvals_RT, u_lams = infsup.solve_infsup_eigproblem(model)\n",
    "\n",
    "        model = model_func(G, space=RT)\n",
    "        eigvals_TH, u_lams = infsup.solve_infsup_eigproblem(model)\n",
    "\n",
    "        print(f'{G.global_mesh.hmin():1.2e}     & {np.min(np.abs(eigvals_RT)):1.2e}  & {np.min(np.abs(eigvals_TH)):1.2e}\\\\\\\\' )\n",
    "        \n",
    "    print()"
   ]
  },
  {
   "cell_type": "code",
   "execution_count": 9,
   "metadata": {},
   "outputs": [
    {
     "name": "stdout",
     "output_type": "stream",
     "text": [
      "Line graph with N bifurcation points\n",
      "Model:  Hydraulic Newtork\n",
      "n_bifs    hmin          lambda\n",
      "0         6.25e-02      3.80e-04\n",
      "1         6.25e-02      1.86e-03\n",
      "2         6.25e-02      5.41e-03\n",
      "3         6.25e-02      8.12e-03\n",
      "4         6.25e-02      1.41e-02\n",
      "5         6.25e-02      1.53e-02\n",
      "6         6.25e-02      3.18e-02\n",
      "\n",
      "Model:  Network Stokes\n",
      "n_bifs    hmin          lambda\n",
      "0         6.25e-02      5.00e-01\n",
      "1         6.25e-02      5.00e-01\n",
      "2         6.25e-02      3.14e-01\n",
      "3         6.25e-02      1.56e-01\n",
      "4         6.25e-02      8.49e-02\n",
      "5         6.25e-02      5.01e-02\n",
      "6         6.25e-02      3.16e-02\n",
      "\n"
     ]
    }
   ],
   "source": [
    "imp.reload(infsup)\n",
    "imp.reload(models)\n",
    "\n",
    "print('Line graph with N bifurcation points')\n",
    "\n",
    "for model_func, model_name, disc in [[infsup.HydraulicNetwork_EP, 'Hydraulic Newtork', RT], \n",
    "                               [infsup.NetworkStokes_EP, 'Network Stokes', RT]]:\n",
    "\n",
    "    print('Model: ', model_name)\n",
    "        \n",
    "    print(f'n_bifs    hmin          lambda')\n",
    "    for N in [2, 3, 4, 5, 6, 7, 8]:\n",
    "        G = make_line_graph(N)\n",
    "        G.make_mesh(4)\n",
    "\n",
    "        prop_dict = {key: { 'Res':Constant(1),'Ainv':Constant(1)} for key in list(G.edges.keys())}\n",
    "        nx.set_edge_attributes(G, prop_dict)\n",
    "\n",
    "        model = model_func(G, space=disc)\n",
    "\n",
    "        eigvals, u_lams = infsup.infsup_eigproblem(model)\n",
    "\n",
    "        print(f'{G.num_bifurcations}         {G.global_mesh.hmin():1.2e}      {np.min(np.abs(eigvals)):1.2e}')\n",
    "    print()"
   ]
  },
  {
   "cell_type": "code",
   "execution_count": 8,
   "metadata": {},
   "outputs": [
    {
     "name": "stdout",
     "output_type": "stream",
     "text": [
      "Trees\n",
      "Model:  Hydraulic Newtork\n",
      "0  (1.0e+00) 3.85e-02  &   (5.0e-01) 2.32e-02  &   (2.5e-01) 2.83e-02  &   (1.2e-01) 2.99e-02  &   \n",
      "1  (1.0e+00) 2.20e-02  &   (5.0e-01) 2.20e-02  &   (2.5e-01) 2.20e-02  &   (1.2e-01) 2.20e-02  &   \n",
      "3  (1.0e+00) 4.26e-03  &   (5.0e-01) 4.26e-03  &   (2.5e-01) 4.26e-03  &   (1.2e-01) 4.26e-03  &   \n",
      "7  (1.0e+00) 1.14e-03  &   (5.0e-01) 1.14e-03  &   (2.5e-01) 1.14e-03  &   (1.2e-01) 1.14e-03  &   \n",
      "\n",
      "Model:  Network Stokes\n",
      "0  (1.0e+00) 1.61e-01  &   (5.0e-01) 1.59e-01  &   (2.5e-01) 1.59e-01  &   (1.2e-01) 1.59e-01  &   \n",
      "1  (1.0e+00) 2.18e-02  &   (5.0e-01) 2.18e-02  &   (2.5e-01) 2.18e-02  &   (1.2e-01) 2.18e-02  &   \n",
      "3  (1.0e+00) 4.26e-03  &   (5.0e-01) 4.26e-03  &   (2.5e-01) 4.26e-03  &   (1.2e-01) 4.26e-03  &   \n",
      "7  (1.0e+00) 1.14e-03  &   (5.0e-01) 1.14e-03  &   (2.5e-01) 1.14e-03  &   (1.2e-01) 1.14e-03  &   \n",
      "\n"
     ]
    }
   ],
   "source": [
    "imp.reload(infsup)\n",
    "imp.reload(models)\n",
    "\n",
    "print('Trees')\n",
    "\n",
    "\n",
    "\n",
    "for model_func, model_name, disc in [[infsup.HydraulicNetwork_EP, 'Hydraulic Newtork', RT], \n",
    "                               [infsup.NetworkStokes_EP, 'Network Stokes', RT]]:\n",
    "\n",
    "    print('Model: ', model_name)\n",
    "    \n",
    "    Gs = []\n",
    "    \n",
    "    for n in [1, 2, 3, 4]:\n",
    "    \n",
    "        graph = make_arterial_tree(n, uniform_lengths=True)\n",
    "        G = copy_from_nx_graph(graph)\n",
    "        G.make_mesh(1)\n",
    "        \n",
    "        row =f'{G.num_bifurcations}  '\n",
    "        \n",
    "        for N in [3, 4, 5, 6]:\n",
    "\n",
    "            G.make_mesh(N)\n",
    "            prop_dict = {key: { 'Res':Constant(1),'Ainv':Constant(1)} for key in list(G.edges.keys())}\n",
    "            nx.set_edge_attributes(G, prop_dict)\n",
    "\n",
    "            model = model_func(G, space=disc)\n",
    "            eigvals, u_lams = infsup.solve_infsup_eigproblem(model)\n",
    "\n",
    "            row += f'({G.global_mesh.hmin():1.1e}) {np.min(np.abs(eigvals)):1.2e}  &   '\n",
    "        print(row)\n",
    "        Gs.append(G)\n",
    "    print()\n",
    "    \n",
    "    "
   ]
  },
  {
   "cell_type": "code",
   "execution_count": 16,
   "metadata": {},
   "outputs": [
    {
     "name": "stdout",
     "output_type": "stream",
     "text": [
      "Honeycomb\n",
      "Model:  Hydraulic Newtork\n",
      "1\n",
      "6  (1.2e-01) 3.16e-02  &   (6.2e-02) 3.16e-02  &   (3.1e-02) 3.16e-02  &   (1.6e-02) 3.16e-02  &   \n",
      "4\n",
      "16  (1.2e-01) 3.38e-03  &   (6.2e-02) 3.38e-03  &   (3.1e-02) 3.38e-03  &   (1.6e-02) 3.38e-03  &   \n",
      "9\n",
      "30  (1.2e-01) 8.16e-04  &   (6.2e-02) 8.16e-04  &   (3.1e-02) 8.16e-04  &   (1.6e-02) 8.16e-04  &   \n",
      "\n",
      "Model:  Network Stokes\n",
      "1\n",
      "6  (1.2e-01) 3.14e-02  &   (6.2e-02) 3.14e-02  &   (3.1e-02) 3.14e-02  &   (1.6e-02) 3.14e-02  &   \n",
      "4\n",
      "16  (1.2e-01) 3.38e-03  &   (6.2e-02) 3.38e-03  &   (3.1e-02) 3.38e-03  &   (1.6e-02) 3.38e-03  &   \n",
      "9\n",
      "30  (1.2e-01) 8.16e-04  &   (6.2e-02) 8.16e-04  &   (3.1e-02) 8.16e-04  &   (1.6e-02) 8.16e-04  &   \n",
      "\n"
     ]
    }
   ],
   "source": [
    "imp.reload(infsup)\n",
    "imp.reload(models)\n",
    "\n",
    "print('Honeycomb')\n",
    "\n",
    "\n",
    "\n",
    "for model_func, model_name, disc in [[infsup.HydraulicNetwork_EP, 'Hydraulic Newtork', RT], \n",
    "                               [infsup.NetworkStokes_EP, 'Network Stokes', RT]]:\n",
    "\n",
    "    print('Model: ', model_name)\n",
    "    \n",
    "    Gs = []\n",
    "    \n",
    "    for n in [1, 2, 3]:\n",
    "    \n",
    "        graph = honeycomb(n,n)\n",
    "        G = copy_from_nx_graph(graph)\n",
    "        G.make_mesh(1)\n",
    "        \n",
    "        print(len(nx.cycle_basis(nx.Graph(G))))\n",
    "        \n",
    "        row =f'{G.num_bifurcations}  '\n",
    "        \n",
    "        for N in [3, 4, 5, 6]:\n",
    "\n",
    "            G.make_mesh(N)\n",
    "            prop_dict = {key: { 'Res':Constant(1),'Ainv':Constant(1)} for key in list(G.edges.keys())}\n",
    "            nx.set_edge_attributes(G, prop_dict)\n",
    "\n",
    "            model = model_func(G, space=disc)\n",
    "            eigvals, u_lams = infsup.solve_infsup_eigproblem(model)\n",
    "\n",
    "            row += f'({G.global_mesh.hmin():1.1e}) {np.min(np.abs(eigvals)):1.2e}  &   '\n",
    "        print(row)\n",
    "        Gs.append(G)\n",
    "    print()\n",
    "    \n",
    "    "
   ]
  },
  {
   "cell_type": "code",
   "execution_count": 15,
   "metadata": {},
   "outputs": [
    {
     "data": {
      "text/plain": [
       "[]"
      ]
     },
     "execution_count": 15,
     "metadata": {},
     "output_type": "execute_result"
    }
   ],
   "source": []
  },
  {
   "cell_type": "code",
   "execution_count": 12,
   "metadata": {},
   "outputs": [
    {
     "data": {
      "image/png": "[encoded data removed]",
      "text/plain": [
       "<Figure size 432x288 with 1 Axes>"
      ]
     },
     "metadata": {},
     "output_type": "display_data"
    }
   ],
   "source": [
    "# Flatten to 2D and plot\n",
    "G = Gs[2]\n",
    "G_2D = G.copy() # deep copy\n",
    "for v in G.nodes():\n",
    "    G_2D.nodes[v]['pos'] = G.nodes[v]['pos'][0:2]\n",
    "pos=nx.get_node_attributes(G_2D,'pos')\n",
    "nx.draw_networkx(G_2D, pos, with_labels=False)\n",
    "\n"
   ]
  },
  {
   "cell_type": "code",
   "execution_count": null,
   "metadata": {},
   "outputs": [],
   "source": []
  }
 ],
 "metadata": {
  "kernelspec": {
   "display_name": "Python 3",
   "language": "python",
   "name": "python3"
  },
  "language_info": {
   "codemirror_mode": {
    "name": "ipython",
    "version": 3
   },
   "file_extension": ".py",
   "mimetype": "text/x-python",
   "name": "python",
   "nbconvert_exporter": "python",
   "pygments_lexer": "ipython3",
   "version": "3.6.9"
  }
 },
 "nbformat": 4,
 "nbformat_minor": 4
}
